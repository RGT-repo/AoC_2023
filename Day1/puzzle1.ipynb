{
 "cells": [
  {
   "cell_type": "code",
   "execution_count": 2,
   "metadata": {},
   "outputs": [],
   "source": [
    "import numpy as np\n",
    "import pandas as pd\n"
   ]
  },
  {
   "cell_type": "code",
   "execution_count": 4,
   "metadata": {},
   "outputs": [],
   "source": [
    "inputf = open('D:\\python_playground\\AoC_2023\\Day1\\InputPuzzle1.txt','r')\n",
    "inputdata = inputf.readlines()"
   ]
  },
  {
   "cell_type": "code",
   "execution_count": 12,
   "metadata": {},
   "outputs": [
    {
     "ename": "IndexError",
     "evalue": "list index out of range",
     "output_type": "error",
     "traceback": [
      "\u001b[1;31m---------------------------------------------------------------------------\u001b[0m",
      "\u001b[1;31mIndexError\u001b[0m                                Traceback (most recent call last)",
      "\u001b[1;32md:\\python_playground\\AoC_2023\\Day1\\puzzle1.ipynb Cell 3\u001b[0m in \u001b[0;36m4\n\u001b[0;32m      <a href='vscode-notebook-cell:/d%3A/python_playground/AoC_2023/Day1/puzzle1.ipynb#W1sZmlsZQ%3D%3D?line=1'>2</a>\u001b[0m calibrationVals_str \u001b[39m=\u001b[39m []\n\u001b[0;32m      <a href='vscode-notebook-cell:/d%3A/python_playground/AoC_2023/Day1/puzzle1.ipynb#W1sZmlsZQ%3D%3D?line=2'>3</a>\u001b[0m \u001b[39mfor\u001b[39;00m index,item \u001b[39min\u001b[39;00m \u001b[39menumerate\u001b[39m(numlist):\n\u001b[1;32m----> <a href='vscode-notebook-cell:/d%3A/python_playground/AoC_2023/Day1/puzzle1.ipynb#W1sZmlsZQ%3D%3D?line=3'>4</a>\u001b[0m     \u001b[39mif\u001b[39;00m item[\u001b[39m1\u001b[39;49m]\u001b[39m.\u001b[39misnan():\n\u001b[0;32m      <a href='vscode-notebook-cell:/d%3A/python_playground/AoC_2023/Day1/puzzle1.ipynb#W1sZmlsZQ%3D%3D?line=4'>5</a>\u001b[0m         calibrationVals_str[index] \u001b[39m=\u001b[39m \u001b[39mint\u001b[39m(\u001b[39mstr\u001b[39m(item[\u001b[39m0\u001b[39m])\u001b[39m+\u001b[39m\u001b[39mstr\u001b[39m(item[\u001b[39m0\u001b[39m]))\n\u001b[0;32m      <a href='vscode-notebook-cell:/d%3A/python_playground/AoC_2023/Day1/puzzle1.ipynb#W1sZmlsZQ%3D%3D?line=5'>6</a>\u001b[0m     \u001b[39melse\u001b[39;00m:\n",
      "\u001b[1;31mIndexError\u001b[0m: list index out of range"
     ]
    }
   ],
   "source": [
    "numlist = [[int(char) for char in string if char.isdigit()] for string in inputdata]\n",
    "calibrationVals_str = []\n",
    "for index,item in enumerate(numlist):\n",
    "    if item[1].isnan():\n",
    "        calibrationVals_str[index] = int(str(item[0])+str(item[0]))\n",
    "    else:\n",
    "        nanIdx = np.where(item.isnan())[0]\n",
    "        calibrationVals_str[index] = int(str(item[0])+str(item[nanIdx-1]))\n"
   ]
  },
  {
   "cell_type": "code",
   "execution_count": 6,
   "metadata": {},
   "outputs": [],
   "source": []
  }
 ],
 "metadata": {
  "kernelspec": {
   "display_name": "main",
   "language": "python",
   "name": "python3"
  },
  "language_info": {
   "codemirror_mode": {
    "name": "ipython",
    "version": 3
   },
   "file_extension": ".py",
   "mimetype": "text/x-python",
   "name": "python",
   "nbconvert_exporter": "python",
   "pygments_lexer": "ipython3",
   "version": "3.10.8"
  },
  "orig_nbformat": 4
 },
 "nbformat": 4,
 "nbformat_minor": 2
}
